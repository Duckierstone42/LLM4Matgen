{
 "cells": [
  {
   "cell_type": "code",
   "execution_count": 1,
   "metadata": {},
   "outputs": [],
   "source": [
    "import json\n",
    "from pathlib import Path\n",
    "from dataclasses import dataclass\n",
    "\n",
    "from llm4structgen.datasets.base_dataset import BaseDataset\n",
    "from llm4structgen.datasets.prompts import *\n",
    "from llm4structgen.llms.llama2_utils import *\n",
    "from llm4structgen.representations.z_matrix import ZMatrix"
   ]
  },
  {
   "cell_type": "code",
   "execution_count": 2,
   "metadata": {},
   "outputs": [],
   "source": [
    "@dataclass\n",
    "class ModelConfig:\n",
    "    run_name: str\n",
    "    expdir: Path = Path(\"exp\")\n",
    "    model_name: str = \"13b\"\n",
    "    fp8: bool = True\n",
    "    lora_rank: int = 8\n",
    "    lora_alpha: int = 32\n",
    "    lora_dropout: float = 0.05\n",
    "    dataset_type: str = \"cif\"\n",
    "    data_path: Path = Path(\"data/mp20-cif/\")\n",
    "    num_epochs: int = 5\n",
    "    batch_size: int = 2\n",
    "    gradient_accumulation_steps: int = 1\n",
    "    lr: float = 5e-4\n",
    "    lr_scheduler: str = \"cosine\"\n",
    "    warmup_ratio: int = 0.03\n",
    "    num_warmup_steps: int = 100\n",
    "    weight_decay: float = 0.0\n",
    "    eval_freq: int = 500\n",
    "    save_freq: int = 500\n",
    "    log_freq: int = 1\n",
    "    format_permute_composition: bool = False\n",
    "    format_permute_structure: bool = False\n",
    "    w_attributes: bool = True\n",
    "    resume_dir: Path = None\n",
    "    task_probabilities: dict = None\n",
    "    add_perturbed_example: bool = False"
   ]
  },
  {
   "cell_type": "code",
   "execution_count": 3,
   "metadata": {},
   "outputs": [],
   "source": [
    "args = ModelConfig(run_name=\"test\")"
   ]
  },
  {
   "cell_type": "code",
   "execution_count": 4,
   "metadata": {},
   "outputs": [
    {
     "data": {
      "application/vnd.jupyter.widget-view+json": {
       "model_id": "cd3538c561d442dbaf15705e81e88c9b",
       "version_major": 2,
       "version_minor": 0
      },
      "text/plain": [
       "Loading checkpoint shards:   0%|          | 0/3 [00:00<?, ?it/s]"
      ]
     },
     "metadata": {},
     "output_type": "display_data"
    }
   ],
   "source": [
    "model = get_model(args, 0)"
   ]
  },
  {
   "cell_type": "code",
   "execution_count": 5,
   "metadata": {},
   "outputs": [],
   "source": [
    "tokenizer = get_tokenizer(args)"
   ]
  },
  {
   "cell_type": "code",
   "execution_count": 6,
   "metadata": {},
   "outputs": [],
   "source": [
    "smart_tokenizer_and_embedding_resize(model, tokenizer)"
   ]
  },
  {
   "cell_type": "code",
   "execution_count": 7,
   "metadata": {},
   "outputs": [],
   "source": [
    "zmatrix_encoder = ZMatrix()"
   ]
  },
  {
   "cell_type": "code",
   "execution_count": 8,
   "metadata": {},
   "outputs": [],
   "source": [
    "ds = BaseDataset(\n",
    "    data_dir=\"val.json\", \n",
    "    tokenizer=tokenizer, \n",
    "    encoder=zmatrix_encoder, \n",
    "    prompt_header=Z_MATRIX_GENERATION_PROMPT_HEADER,\n",
    "    attributes=False\n",
    ")"
   ]
  },
  {
   "cell_type": "code",
   "execution_count": 10,
   "metadata": {},
   "outputs": [
    {
     "data": {
      "text/plain": [
       "dict_keys(['input_ids', 'labels', 'input_ids_lens', 'labels_lens'])"
      ]
     },
     "execution_count": 10,
     "metadata": {},
     "output_type": "execute_result"
    }
   ],
   "source": [
    "ds[0].keys()"
   ]
  },
  {
   "cell_type": "code",
   "execution_count": 11,
   "metadata": {},
   "outputs": [],
   "source": [
    "prompt = tokenizer.decode(ds[0][\"input_ids\"])"
   ]
  },
  {
   "cell_type": "code",
   "execution_count": 13,
   "metadata": {},
   "outputs": [
    {
     "name": "stdout",
     "output_type": "stream",
     "text": [
      "<s> Below is a description of a bulk material where each atom is described by its element type and three attributes: 1. distance to the previous atom, 2. angle to the previous two atoms, 3. dihedral angle to the previous three atoms. The first three Fm atoms are dummies that help define the rest of the material.  Generate a description of the lengths and angles of the lattice vectors and the three dummy Fm atoms, followed by the element type and the three attributes for each atom within the lattice:\n",
      "7.22 7.22 5.64\n",
      "90 90 120\n",
      "Fm\n",
      "Fm\n",
      "2.2\n",
      "Fm\n",
      "3.8 30\n",
      "Y\n",
      "4.9 92 121\n",
      "Y\n",
      "5.0 59 20\n",
      "Ho\n",
      "3.6 44 351\n",
      "Ho\n",
      "3.6 60 53\n",
      "Ho\n",
      "3.6 60 180\n",
      "Ho\n",
      "6.2 29 70\n",
      "Ho\n",
      "3.6 73 238\n",
      "Ho\n",
      "3.6 60 152</s>\n"
     ]
    }
   ],
   "source": [
    "print(prompt)"
   ]
  },
  {
   "cell_type": "code",
   "execution_count": null,
   "metadata": {},
   "outputs": [],
   "source": []
  }
 ],
 "metadata": {
  "kernelspec": {
   "display_name": "llm4structgen",
   "language": "python",
   "name": "python3"
  },
  "language_info": {
   "codemirror_mode": {
    "name": "ipython",
    "version": 3
   },
   "file_extension": ".py",
   "mimetype": "text/x-python",
   "name": "python",
   "nbconvert_exporter": "python",
   "pygments_lexer": "ipython3",
   "version": "3.10.16"
  }
 },
 "nbformat": 4,
 "nbformat_minor": 2
}
