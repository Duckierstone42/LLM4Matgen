{
 "cells": [
  {
   "cell_type": "code",
   "execution_count": 1,
   "metadata": {},
   "outputs": [],
   "source": [
    "import json\n",
    "import ase.io\n",
    "from tqdm import tqdm\n",
    "\n",
    "from llm4structgen.representations.z_matrix import *\n",
    "from llm4structgen.representations.cartesian import *\n",
    "from llm4structgen.representations.distance_matrix import *"
   ]
  },
  {
   "cell_type": "code",
   "execution_count": 2,
   "metadata": {},
   "outputs": [],
   "source": [
    "f = open(\"../data/mp-20/train.json\")\n",
    "data = json.load(f)\n",
    "f.close()"
   ]
  },
  {
   "cell_type": "code",
   "execution_count": 3,
   "metadata": {},
   "outputs": [],
   "source": [
    "atomic_symbols = data[0]['atomic_symbols']\n",
    "positions = data[0]['positions']\n",
    "cell = data[0]['cell']"
   ]
  },
  {
   "cell_type": "code",
   "execution_count": 4,
   "metadata": {},
   "outputs": [
    {
     "data": {
      "text/plain": [
       "'mp-998512'"
      ]
     },
     "execution_count": 4,
     "metadata": {},
     "output_type": "execute_result"
    }
   ],
   "source": [
    "data[0]['material_id']"
   ]
  },
  {
   "cell_type": "markdown",
   "metadata": {},
   "source": [
    "### Z-Matrix"
   ]
  },
  {
   "cell_type": "code",
   "execution_count": null,
   "metadata": {},
   "outputs": [],
   "source": [
    "zmatrix = ZMatrix(translate=True, rotate=True, permute=True)"
   ]
  },
  {
   "cell_type": "code",
   "execution_count": null,
   "metadata": {},
   "outputs": [],
   "source": [
    "for d in tqdm(data):\n",
    "    atomic_symbols = d['atomic_symbols']\n",
    "    positions = d['positions']\n",
    "    cell = d['cell']\n",
    "\n",
    "    z = zmatrix.encode(atomic_symbols, positions, cell)\n",
    "    atoms = zmatrix.decode(z)"
   ]
  },
  {
   "cell_type": "markdown",
   "metadata": {},
   "source": [
    "### Cartesian"
   ]
  },
  {
   "cell_type": "code",
   "execution_count": null,
   "metadata": {},
   "outputs": [],
   "source": [
    "cartesian = Cartesian(translate=True, rotate=True, permute=True)"
   ]
  },
  {
   "cell_type": "code",
   "execution_count": null,
   "metadata": {},
   "outputs": [],
   "source": [
    "for d in tqdm(data):\n",
    "    atomic_symbols = d['atomic_symbols']\n",
    "    positions = d['positions']\n",
    "    cell = d['cell']\n",
    "\n",
    "    c = cartesian.encode(atomic_symbols, positions, cell)\n",
    "    atoms = cartesian.decode(c)"
   ]
  },
  {
   "cell_type": "markdown",
   "metadata": {},
   "source": [
    "### Distance Matrix"
   ]
  },
  {
   "cell_type": "code",
   "execution_count": 5,
   "metadata": {},
   "outputs": [],
   "source": [
    "dist_mat = DistanceMatrix()"
   ]
  },
  {
   "cell_type": "code",
   "execution_count": 6,
   "metadata": {},
   "outputs": [
    {
     "name": "stdout",
     "output_type": "stream",
     "text": [
      "In\n",
      "In\n",
      "\n",
      "Pb\n",
      "4.43\n",
      "Pb\n",
      "4.43 4.43\n",
      "Cl\n",
      "3.63 3.40 2.94\n",
      "Cl\n",
      "3.40 3.63 5.53 2.94\n",
      "Cl\n",
      "3.63 3.40 5.53 2.94 4.12\n",
      "Cl\n",
      "3.40 3.63 2.94 5.53 4.00 4.12\n",
      "Cl\n",
      "3.12 5.83 2.93 2.93 3.98 4.30 3.98\n",
      "Cl\n",
      "5.83 3.12 2.93 2.93 4.30 3.98 4.30 3.98\n",
      "\n"
     ]
    }
   ],
   "source": [
    "print(dist_mat.encode(atomic_symbols, positions, cell))"
   ]
  },
  {
   "cell_type": "code",
   "execution_count": 7,
   "metadata": {},
   "outputs": [],
   "source": [
    "atoms = Atoms(atomic_symbols, positions, cell=cell, pbc=[True]*3)"
   ]
  },
  {
   "cell_type": "code",
   "execution_count": 8,
   "metadata": {},
   "outputs": [
    {
     "data": {
      "text/plain": [
       "array([[0.        , 5.75738336, 4.43318775, 4.43318775, 3.63413206,\n",
       "        3.39556459, 3.63413206, 3.39556459, 3.12492125, 5.83021097],\n",
       "       [5.75738336, 0.        , 4.43318775, 4.43318775, 3.39556459,\n",
       "        3.63413206, 3.39556459, 3.63413206, 5.83021097, 3.12492125],\n",
       "       [4.43318775, 4.43318775, 0.        , 5.341     , 2.93591106,\n",
       "        5.53468466, 5.53468466, 2.93591106, 2.92806639, 2.92806639],\n",
       "       [4.43318775, 4.43318775, 5.341     , 0.        , 5.53468466,\n",
       "        2.93591106, 2.93591106, 5.53468466, 2.92806639, 2.92806639],\n",
       "       [3.63413206, 3.39556459, 2.93591106, 5.53468466, 0.        ,\n",
       "        6.56137495, 4.12154288, 4.00155419, 3.98410213, 4.30269955],\n",
       "       [3.39556459, 3.63413206, 5.53468466, 2.93591106, 6.56137495,\n",
       "        0.        , 4.00155419, 4.12154288, 4.30269955, 3.98410213],\n",
       "       [3.63413206, 3.39556459, 5.53468466, 2.93591106, 4.12154288,\n",
       "        4.00155419, 0.        , 6.56137495, 3.98410213, 4.30269955],\n",
       "       [3.39556459, 3.63413206, 2.93591106, 5.53468466, 4.00155419,\n",
       "        4.12154288, 6.56137495, 0.        , 4.30269955, 3.98410213],\n",
       "       [3.12492125, 5.83021097, 2.92806639, 2.92806639, 3.98410213,\n",
       "        4.30269955, 3.98410213, 4.30269955, 0.        , 5.85613279],\n",
       "       [5.83021097, 3.12492125, 2.92806639, 2.92806639, 4.30269955,\n",
       "        3.98410213, 4.30269955, 3.98410213, 5.85613279, 0.        ]])"
      ]
     },
     "execution_count": 8,
     "metadata": {},
     "output_type": "execute_result"
    }
   ],
   "source": [
    "atoms.get_all_distances(mic=True)"
   ]
  },
  {
   "cell_type": "code",
   "execution_count": null,
   "metadata": {},
   "outputs": [],
   "source": []
  }
 ],
 "metadata": {
  "kernelspec": {
   "display_name": "crystal-llm",
   "language": "python",
   "name": "python3"
  },
  "language_info": {
   "codemirror_mode": {
    "name": "ipython",
    "version": 3
   },
   "file_extension": ".py",
   "mimetype": "text/x-python",
   "name": "python",
   "nbconvert_exporter": "python",
   "pygments_lexer": "ipython3",
   "version": "3.10.13"
  }
 },
 "nbformat": 4,
 "nbformat_minor": 2
}
