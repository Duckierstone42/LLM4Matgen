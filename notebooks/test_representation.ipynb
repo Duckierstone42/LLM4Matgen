{
 "cells": [
  {
   "cell_type": "code",
   "execution_count": 1,
   "metadata": {},
   "outputs": [],
   "source": [
    "import json\n",
    "import ase.io\n",
    "from tqdm import tqdm\n",
    "\n",
    "from llm4structgen.representations.z_matrix import *\n",
    "from llm4structgen.representations.cartesian import *"
   ]
  },
  {
   "cell_type": "code",
   "execution_count": 2,
   "metadata": {},
   "outputs": [],
   "source": [
    "f = open(\"data/mp-20/train.json\")\n",
    "data = json.load(f)\n",
    "f.close()"
   ]
  },
  {
   "cell_type": "code",
   "execution_count": 3,
   "metadata": {},
   "outputs": [],
   "source": [
    "atomic_symbols = data[0]['atomic_symbols']\n",
    "positions = data[0]['positions']\n",
    "cell = data[0]['cell']"
   ]
  },
  {
   "cell_type": "code",
   "execution_count": 4,
   "metadata": {},
   "outputs": [
    {
     "data": {
      "text/plain": [
       "'mp-998512'"
      ]
     },
     "execution_count": 4,
     "metadata": {},
     "output_type": "execute_result"
    }
   ],
   "source": [
    "data[0]['material_id']"
   ]
  },
  {
   "cell_type": "markdown",
   "metadata": {},
   "source": [
    "### Z-Matrix"
   ]
  },
  {
   "cell_type": "code",
   "execution_count": 5,
   "metadata": {},
   "outputs": [],
   "source": [
    "zmatrix = ZMatrix(translate=True, rotate=True, permute=True)"
   ]
  },
  {
   "cell_type": "code",
   "execution_count": 6,
   "metadata": {},
   "outputs": [
    {
     "name": "stderr",
     "output_type": "stream",
     "text": [
      "  7%|▋         | 1835/27136 [00:06<01:23, 303.75it/s]/net/csefiles/coc-fung-cluster/Shuyi/Playground/unifiedLLM4StructGen/llm4structgen/representations/z_matrix.py:174: RuntimeWarning: invalid value encountered in divide\n",
      "  n /= np.linalg.norm(n)\n",
      "/net/csefiles/coc-fung-cluster/Shuyi/Playground/unifiedLLM4StructGen/llm4structgen/representations/z_matrix.py:175: RuntimeWarning: invalid value encountered in divide\n",
      "  nn /= np.linalg.norm(nn)\n",
      "100%|██████████| 27136/27136 [01:29<00:00, 301.73it/s]\n"
     ]
    }
   ],
   "source": [
    "for d in tqdm(data):\n",
    "    atomic_symbols = d['atomic_symbols']\n",
    "    positions = d['positions']\n",
    "    cell = d['cell']\n",
    "\n",
    "    z = zmatrix.encode(atomic_symbols, positions, cell)\n",
    "\n",
    "    atoms = zmatrix.decode(z)"
   ]
  },
  {
   "cell_type": "markdown",
   "metadata": {},
   "source": [
    "### Cartesian"
   ]
  },
  {
   "cell_type": "code",
   "execution_count": 7,
   "metadata": {},
   "outputs": [],
   "source": [
    "cartesian = Cartesian()"
   ]
  },
  {
   "cell_type": "code",
   "execution_count": 8,
   "metadata": {},
   "outputs": [],
   "source": [
    "c = cartesian.encode(atomic_symbols, positions, cell)"
   ]
  },
  {
   "cell_type": "code",
   "execution_count": 9,
   "metadata": {},
   "outputs": [],
   "source": [
    "atoms = cartesian.decode(c)"
   ]
  },
  {
   "cell_type": "code",
   "execution_count": null,
   "metadata": {},
   "outputs": [],
   "source": []
  }
 ],
 "metadata": {
  "kernelspec": {
   "display_name": "crystal-llm",
   "language": "python",
   "name": "python3"
  },
  "language_info": {
   "codemirror_mode": {
    "name": "ipython",
    "version": 3
   },
   "file_extension": ".py",
   "mimetype": "text/x-python",
   "name": "python",
   "nbconvert_exporter": "python",
   "pygments_lexer": "ipython3",
   "version": "3.10.13"
  }
 },
 "nbformat": 4,
 "nbformat_minor": 2
}
