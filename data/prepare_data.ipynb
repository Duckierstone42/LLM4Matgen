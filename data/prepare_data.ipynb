{
 "cells": [
  {
   "cell_type": "code",
   "execution_count": 8,
   "metadata": {},
   "outputs": [],
   "source": [
    "import os\n",
    "import json\n",
    "import ase.io\n",
    "from tqdm import tqdm\n",
    "from glob import glob\n",
    "from pathlib import Path\n",
    "import pandas as pd"
   ]
  },
  {
   "cell_type": "code",
   "execution_count": 9,
   "metadata": {},
   "outputs": [],
   "source": [
    "split = \"test\""
   ]
  },
  {
   "cell_type": "code",
   "execution_count": 10,
   "metadata": {},
   "outputs": [],
   "source": [
    "path = f\"/net/csefiles/coc-fung-cluster/Shuyi/Playground/LLM4StructGen/data/mp20-cif/{split}.csv\"\n",
    "df = pd.read_csv(path)"
   ]
  },
  {
   "cell_type": "code",
   "execution_count": 11,
   "metadata": {},
   "outputs": [],
   "source": [
    "cif_path = f\"/net/csefiles/coc-fung-cluster/Shuyi/Datasets/CDVAE/mp_20/raw_{split}/\"\n",
    "cifs = glob(cif_path + \"*.cif\")"
   ]
  },
  {
   "cell_type": "code",
   "execution_count": 12,
   "metadata": {},
   "outputs": [
    {
     "name": "stderr",
     "output_type": "stream",
     "text": [
      "100%|██████████| 9046/9046 [00:32<00:00, 281.18it/s]\n"
     ]
    }
   ],
   "source": [
    "out = []\n",
    "\n",
    "for cif in tqdm(cifs):\n",
    "    mp_id = Path(cif).stem\n",
    "    atoms = ase.io.read(cif)\n",
    "    row = df[df[\"material_id\"] == mp_id]\n",
    "\n",
    "    out_dict = {\n",
    "        \"material_id\": mp_id,\n",
    "        \"atomic_numbers\": atoms.get_atomic_numbers().tolist(),\n",
    "        \"atomic_symbols\": atoms.get_chemical_symbols(),\n",
    "        \"positions\": atoms.get_positions().tolist(),\n",
    "        \"cell\": atoms.get_cell().tolist(),\n",
    "        \"band_gap\": float(row['band_gap'].values[0]),\n",
    "        \"formation_energy_per_atom\": float(row['formation_energy_per_atom'].values[0]),\n",
    "        \"e_above_hull\": float(row['e_above_hull'].values[0]),\n",
    "        \"spacegroup_number\": int(row['spacegroup.number'].values[0]),\n",
    "        \"pretty_formula\": row['pretty_formula'].values[0],\n",
    "        \"elements\": list(set(atoms.get_chemical_symbols())),\n",
    "    }\n",
    "\n",
    "    out.append(out_dict)"
   ]
  },
  {
   "cell_type": "code",
   "execution_count": 13,
   "metadata": {},
   "outputs": [],
   "source": [
    "# save as json file\n",
    "with open(f\"{split}.json\", \"w\") as f:\n",
    "    json.dump(out, f)"
   ]
  },
  {
   "cell_type": "code",
   "execution_count": null,
   "metadata": {},
   "outputs": [],
   "source": []
  }
 ],
 "metadata": {
  "kernelspec": {
   "display_name": "crystal-llm",
   "language": "python",
   "name": "python3"
  },
  "language_info": {
   "codemirror_mode": {
    "name": "ipython",
    "version": 3
   },
   "file_extension": ".py",
   "mimetype": "text/x-python",
   "name": "python",
   "nbconvert_exporter": "python",
   "pygments_lexer": "ipython3",
   "version": "3.10.13"
  }
 },
 "nbformat": 4,
 "nbformat_minor": 2
}
